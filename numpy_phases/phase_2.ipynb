{
 "cells": [
  {
   "cell_type": "markdown",
   "id": "5eae3032",
   "metadata": {},
   "source": [
    "#Numpy arrays operations"
   ]
  },
  {
   "cell_type": "code",
   "execution_count": 3,
   "id": "29de39d0",
   "metadata": {},
   "outputs": [],
   "source": [
    "import numpy as np"
   ]
  },
  {
   "cell_type": "code",
   "execution_count": 4,
   "id": "acff3da5",
   "metadata": {},
   "outputs": [
    {
     "name": "stdout",
     "output_type": "stream",
     "text": [
      "Array:  [1, 2, 3, 4, 5, 6, 7, 8, 9, 10]\n",
      "Basic slicing:  [4, 5, 6, 7, 8]\n",
      "With step:  [3, 5, 7, 9]\n",
      "Negative indexing:  7\n"
     ]
    }
   ],
   "source": [
    "arr = ([1,2,3,4,5,6,7,8,9,10])\n",
    "print(\"Array: \", arr)\n",
    "print(\"Basic slicing: \",arr[3:8])\n",
    "print(\"With step: \", arr[2:10:2])\n",
    "print(\"Negative indexing: \", arr[-4])\n"
   ]
  },
  {
   "cell_type": "code",
   "execution_count": 5,
   "id": "e9447bd8",
   "metadata": {},
   "outputs": [
    {
     "name": "stdout",
     "output_type": "stream",
     "text": [
      "Entire Array:  [[1 2 3]\n",
      " [4 5 6]\n",
      " [7 8 9]]\n",
      "Specific element:  6\n",
      "Entire row:  [4 5 6]\n",
      "Entire col:  [2 5 8]\n"
     ]
    }
   ],
   "source": [
    "arr_2D = np.array([[1,2,3], [4,5,6], [7,8,9]])\n",
    "print(\"Entire Array: \", arr_2D)\n",
    "print(\"Specific element: \",arr_2D[1,2])\n",
    "print(\"Entire row: \", arr_2D[1])\n",
    "print(\"Entire col: \", arr_2D[:,1])\n"
   ]
  },
  {
   "cell_type": "markdown",
   "id": "7ad2c29a",
   "metadata": {},
   "source": [
    "#Sorting"
   ]
  },
  {
   "cell_type": "code",
   "execution_count": 9,
   "id": "49f61a52",
   "metadata": {},
   "outputs": [
    {
     "name": "stdout",
     "output_type": "stream",
     "text": [
      "Sorted array:  [1 2 2 3 3 3 5 7 7 9 9]\n",
      "Entire array is:  [[3 1]\n",
      " [2 6]\n",
      " [5 9]]\n",
      "Sorted 2D array by column:  [[2 1]\n",
      " [3 6]\n",
      " [5 9]]\n"
     ]
    }
   ],
   "source": [
    "unsorted = np.array([1,3,5,2,3,7,9,3,9,7,2])\n",
    "print(\"Sorted array: \", np.sort(unsorted))\n",
    "\n",
    "arr_2D_unsorted = np.array([[3,1],[2,6],[5,9]])\n",
    "print(\"Entire array is: \", arr_2D_unsorted)\n",
    "print(\"Sorted 2D array by column: \",np.sort(arr_2D_unsorted, axis = 0))\n"
   ]
  },
  {
   "cell_type": "markdown",
   "id": "d0710066",
   "metadata": {},
   "source": [
    "#Filter"
   ]
  },
  {
   "cell_type": "code",
   "execution_count": 10,
   "id": "0cd82300",
   "metadata": {},
   "outputs": [
    {
     "name": "stdout",
     "output_type": "stream",
     "text": [
      "Even numbers:  [ 2  4  6  8 10]\n"
     ]
    }
   ],
   "source": [
    "numbers = np.array([1,2,3,4,5,6,7,8,9,10])\n",
    "even_numbers = numbers[numbers % 2 == 0]\n",
    "print(\"Even numbers: \",even_numbers)"
   ]
  },
  {
   "cell_type": "markdown",
   "id": "85d316a6",
   "metadata": {},
   "source": [
    "#Filter with mask"
   ]
  },
  {
   "cell_type": "code",
   "execution_count": 14,
   "id": "da3567b1",
   "metadata": {},
   "outputs": [
    {
     "name": "stdout",
     "output_type": "stream",
     "text": [
      "Numbers greater than 5:  [ 6  7  8  9 10]\n",
      "Numbers less than 5:  [1 2 3 4]\n"
     ]
    }
   ],
   "source": [
    "arr_no = np.array([1,2,3,4,5,6,7,8,9,10])\n",
    "mask = arr_no > 5\n",
    "print(\"Numbers greater than 5: \", numbers[mask])\n",
    "#in place of mask i can take any variable\n",
    "\n",
    "yash = arr_no < 5\n",
    "print(\"Numbers less than 5: \", numbers[yash])"
   ]
  },
  {
   "cell_type": "markdown",
   "id": "8d8b9479",
   "metadata": {},
   "source": [
    "#Fancy indexing vs np.where()"
   ]
  },
  {
   "cell_type": "code",
   "execution_count": null,
   "id": "00ca5f14",
   "metadata": {},
   "outputs": [
    {
     "name": "stdout",
     "output_type": "stream",
     "text": [
      "[1 3 5]\n",
      "(array([5, 6, 7, 8, 9]),)\n",
      "np_where:  [ 6  7  8  9 10]\n"
     ]
    }
   ],
   "source": [
    "numbers = np.array([1,2,3,4,5,6,7,8,9,10])\n",
    "indices = [0,2,4]\n",
    "print(numbers[indices])\n",
    "\n",
    "#np..wher is typically used with a condition\n",
    "where_result = np.where(numbers > 5)\n",
    "print(where_result)\n",
    "print(\"np_where: \", numbers[where_result]) #here it only print the true values\n"
   ]
  },
  {
   "cell_type": "code",
   "execution_count": null,
   "id": "d6a5d08e",
   "metadata": {},
   "outputs": [
    {
     "name": "stdout",
     "output_type": "stream",
     "text": [
      "[ 1  2  3  4  5 12 14 16 18 20]\n"
     ]
    }
   ],
   "source": [
    "# Ensure 'numbers' is defined\n",
    "numbers = np.array([1, 2, 3, 4, 5, 6, 7, 8, 9, 10])\n",
    "\n",
    "condition_array = np.where(numbers > 5 , numbers * 2 , numbers)\n",
    "#condition_array = np.where(numbers > 5 , \"true\" , \"false\")\n",
    "print(condition_array)\n",
    "#here np.where() acts as if else loop where condiion is true it will execute \n",
    "# first statement otherwise second statement"
   ]
  },
  {
   "cell_type": "code",
   "execution_count": null,
   "id": "e63d50c8",
   "metadata": {},
   "outputs": [
    {
     "name": "stdout",
     "output_type": "stream",
     "text": [
      "[ 1  2  3  4  5  6 21 24 27 30]\n",
      "[ 2  4  6  8 10 12 14 16 18 20]\n"
     ]
    }
   ],
   "source": [
    "#executing np.where() with condition just like above where numbers array is declared in above cell\n",
    "result = np.where(num > 6 , num * 3 , num)\n",
    "print(result)\n",
    "\n",
    "#executing if-else like here do not need np.where()\n",
    "if np.any(numbers > 5):\n",
    "#if np.all(numbers > 5):\n",
    "    print(numbers * 2)\n",
    "else:\n",
    "    print(numbers)"
   ]
  },
  {
   "cell_type": "markdown",
   "id": "d2757d44",
   "metadata": {},
   "source": [
    "#Adding and removing data "
   ]
  },
  {
   "cell_type": "code",
   "execution_count": 10,
   "id": "c9b742ec",
   "metadata": {},
   "outputs": [
    {
     "name": "stdout",
     "output_type": "stream",
     "text": [
      "[1 2 3 4 5 6]\n"
     ]
    }
   ],
   "source": [
    "arr1 = np.array([1,2,3])\n",
    "arr2 = np.array([4,5,6])\\\n",
    "\n",
    "combined = np.concatenate((arr1 , arr2))\n",
    "print(combined)"
   ]
  },
  {
   "cell_type": "markdown",
   "id": "13fa8ef1",
   "metadata": {},
   "source": [
    "#Array compatibility"
   ]
  },
  {
   "cell_type": "code",
   "execution_count": 15,
   "id": "a04992d4",
   "metadata": {},
   "outputs": [
    {
     "name": "stdout",
     "output_type": "stream",
     "text": [
      "Compatibility shape : False\n"
     ]
    }
   ],
   "source": [
    "a = np.array([1,2,3])\n",
    "b = np.array([4,5,6,5])\n",
    "c = np.array([7,8,9])\n",
    "\n",
    "print(\"Compatibility shape :\", a.shape == b.shape)\n"
   ]
  },
  {
   "cell_type": "code",
   "execution_count": 25,
   "id": "cff01c6d",
   "metadata": {},
   "outputs": [
    {
     "name": "stdout",
     "output_type": "stream",
     "text": [
      "Original array:  [[1 2]\n",
      " [3 4]]\n",
      "With new Row:  [[1 2]\n",
      " [3 4]\n",
      " [5 6]]\n",
      "\n",
      "Original array:  [[1 2]\n",
      " [3 4]]\n",
      "With new Col:  [[1 2 7]\n",
      " [3 4 8]]\n"
     ]
    }
   ],
   "source": [
    "original = np.array([[1,2], [3,4]])\n",
    "new_row = np.array([5,6])\n",
    "\n",
    "with_new_row = np.vstack([original , new_row])\n",
    "print(\"Original array: \",original)\n",
    "print(\"With new Row: \",with_new_row)\n",
    "\n",
    "new_col = np.array([[7] , [8]])\n",
    "with_new_col = np.hstack([original , new_col])\n",
    "print(\"\\nOriginal array: \",original)\n",
    "print(\"With new Col: \",with_new_col)"
   ]
  },
  {
   "cell_type": "code",
   "execution_count": 32,
   "id": "5550b594",
   "metadata": {},
   "outputs": [
    {
     "name": "stdout",
     "output_type": "stream",
     "text": [
      "Array after deletion : [1 2 4 5]\n"
     ]
    }
   ],
   "source": [
    "arr = np.array([1,2,3,4,5])\n",
    "delete = np.delete(arr , 2)\n",
    "#delete = np.delete(arr,[0,3,4])\n",
    "# delete = np.delete(arr, range(0, 3))\n",
    "print(\"Array after deletion :\",delete)"
   ]
  }
 ],
 "metadata": {
  "kernelspec": {
   "display_name": "venv",
   "language": "python",
   "name": "python3"
  },
  "language_info": {
   "codemirror_mode": {
    "name": "ipython",
    "version": 3
   },
   "file_extension": ".py",
   "mimetype": "text/x-python",
   "name": "python",
   "nbconvert_exporter": "python",
   "pygments_lexer": "ipython3",
   "version": "3.13.2"
  }
 },
 "nbformat": 4,
 "nbformat_minor": 5
}
