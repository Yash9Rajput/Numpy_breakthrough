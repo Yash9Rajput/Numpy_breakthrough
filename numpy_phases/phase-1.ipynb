{
 "cells": [
  {
   "cell_type": "markdown",
   "id": "f0f87884",
   "metadata": {},
   "source": [
    "#learn about numpy"
   ]
  },
  {
   "cell_type": "code",
   "execution_count": 42,
   "id": "6f2085b0",
   "metadata": {},
   "outputs": [],
   "source": [
    "import numpy as np"
   ]
  },
  {
   "cell_type": "code",
   "execution_count": 43,
   "id": "ea6b0666",
   "metadata": {},
   "outputs": [],
   "source": [
    "##creating array from list"
   ]
  },
  {
   "cell_type": "code",
   "execution_count": 44,
   "id": "c54d1983",
   "metadata": {},
   "outputs": [
    {
     "name": "stdout",
     "output_type": "stream",
     "text": [
      "1D array:  [1 2 3 4 5]\n",
      "2D array:  [[1 2 3]\n",
      " [4 5 6]]\n"
     ]
    }
   ],
   "source": [
    "arr_1d = np.array([1,2,3,4,5])\n",
    "print(\"1D array: \", arr_1d)\n",
    "\n",
    "\n",
    "arr_2d = np.array([[1,2,3],[4,5,6]])\n",
    "print(\"2D array: \",arr_2d)\n"
   ]
  },
  {
   "cell_type": "markdown",
   "id": "4d7ee880",
   "metadata": {},
   "source": [
    "##List vs numpy array"
   ]
  },
  {
   "cell_type": "code",
   "execution_count": 45,
   "id": "8837a500",
   "metadata": {},
   "outputs": [
    {
     "name": "stdout",
     "output_type": "stream",
     "text": [
      "Python list multiplication:  [1, 2, 3, 1, 2, 3]\n",
      "Python array multiplication:  [2 4 6]\n",
      "\n",
      " List operation time:  0.0422055721282959\n",
      "\n",
      " Numpy operation time:  0.0036764144897460938\n"
     ]
    }
   ],
   "source": [
    "py_list = [1,2,3]\n",
    "print(\"Python list multiplication: \",py_list * 2)\n",
    "\n",
    "np_array = np.array([1,2,3]) #element wise multiplication\n",
    "print(\"Python array multiplication: \", np_array * 2)\n",
    "\n",
    "import time\n",
    "start = time.time()\n",
    "py_list = [i*2 for i in range (1000000)]\n",
    "print(\"\\n List operation time: \", time.time() - start)\n",
    "\n",
    "start = time.time()\n",
    "np_array = np.arange(1000000)*2\n",
    "print(\"\\n Numpy operation time: \", time.time() - start)"
   ]
  },
  {
   "cell_type": "markdown",
   "id": "4dc73021",
   "metadata": {},
   "source": [
    "#creating arrays from scratch"
   ]
  },
  {
   "cell_type": "code",
   "execution_count": 46,
   "id": "c640ebdf",
   "metadata": {},
   "outputs": [
    {
     "name": "stdout",
     "output_type": "stream",
     "text": [
      "zeroes array: \n",
      " [[0. 0. 0.]\n",
      " [0. 0. 0.]\n",
      " [0. 0. 0.]]\n",
      "ones array: \n",
      " [[1. 1.]\n",
      " [1. 1.]]\n",
      "full array: \n",
      " [[5 5 5]\n",
      " [5 5 5]\n",
      " [5 5 5]]\n",
      "random array: \n",
      " [[0.61882982 0.39363093 0.25468967 0.40940998]\n",
      " [0.99022794 0.35503261 0.29052296 0.38513283]]\n",
      "sequence array: \n",
      " [0 2 4 6 8]\n"
     ]
    }
   ],
   "source": [
    "zeroes = np.zeros((3,3))\n",
    "print(\"zeroes array: \\n\", zeroes)\n",
    "\n",
    "ones = np.ones((2,2))\n",
    "print(\"ones array: \\n\", ones)\n",
    "\n",
    "full = np.full((3,3),5)\n",
    "print(\"full array: \\n\", full)\n",
    "\n",
    "random = np.random.random((2,4))\n",
    "print(\"random array: \\n\", random)\n",
    "\n",
    "sequence = np.arange(0,10,2)\n",
    "print(\"sequence array: \\n\", sequence)\n"
   ]
  },
  {
   "cell_type": "markdown",
   "id": "5edeffff",
   "metadata": {},
   "source": [
    "#Vector , Matrix , Tensor"
   ]
  },
  {
   "cell_type": "code",
   "execution_count": 47,
   "id": "7044515d",
   "metadata": {},
   "outputs": [
    {
     "name": "stdout",
     "output_type": "stream",
     "text": [
      "Vector: \n",
      " [1 2 3 4 5]\n",
      "Matrix: \n",
      " [[1 2 3]\n",
      " [4 5 6]]\n",
      "Tensor: \n",
      " [[[ 1  2  3]\n",
      "  [ 4  5  6]]\n",
      "\n",
      " [[ 7  8  9]\n",
      "  [10 11 12]]]\n"
     ]
    }
   ],
   "source": [
    "vector = np.array([1,2,3,4,5])\n",
    "print(\"Vector: \\n\", vector)\n",
    "\n",
    "Matrix = np.array([[1,2,3], [4,5,6]])\n",
    "print(\"Matrix: \\n\", Matrix)\n",
    "\n",
    "Tensor = np.array([[[1,2,3],[4,5,6]], [[7,8,9],[10,11,12]]])\n",
    "print(\"Tensor: \\n\", Tensor)\n"
   ]
  },
  {
   "cell_type": "markdown",
   "id": "2abf74e2",
   "metadata": {},
   "source": [
    "#Array Properties"
   ]
  },
  {
   "cell_type": "code",
   "execution_count": 50,
   "id": "8a5a68f6",
   "metadata": {},
   "outputs": [
    {
     "name": "stdout",
     "output_type": "stream",
     "text": [
      "Array:\n",
      " [[1.  2.  3. ]\n",
      " [4.  5.  6.9]]\n",
      "Shape:  (2, 3)\n",
      "Dimension:  2\n",
      "Size:  6\n",
      "Dtype:  float64\n"
     ]
    }
   ],
   "source": [
    "arr = np.array([[1,2,3],\n",
    "                [4,5,6.9]])\n",
    "print(\"Array:\\n\", arr)\n",
    "print(\"Shape: \", arr.shape)\n",
    "print(\"Dimension: \", arr.ndim)\n",
    "print(\"Size: \", arr.size)\n",
    "print(\"Dtype: \", arr.dtype)\n",
    "\n",
    "\n"
   ]
  },
  {
   "cell_type": "markdown",
   "id": "a68544f1",
   "metadata": {},
   "source": [
    "#Array Reshaping"
   ]
  },
  {
   "cell_type": "code",
   "execution_count": 57,
   "id": "40c8da8f",
   "metadata": {},
   "outputs": [
    {
     "name": "stdout",
     "output_type": "stream",
     "text": [
      "Original array:  [ 0  1  2  3  4  5  6  7  8  9 10 11]\n",
      "\n",
      " Reshaped array:  [[ 0  1  2  3]\n",
      " [ 4  5  6  7]\n",
      " [ 8  9 10 11]]\n",
      "\n",
      " Flattened array:  [ 0  1  2  3  4  5  6  7  8  9 10 11]\n",
      "\n",
      " raveled array:  [ 0  1  2  3  4  5  6  7  8  9 10 11]\n",
      "\n",
      " Transposed array:  [[ 0  4  8]\n",
      " [ 1  5  9]\n",
      " [ 2  6 10]\n",
      " [ 3  7 11]]\n",
      "\n",
      " Array_2 :  [[1 2 3 4]\n",
      " [5 6 7 8]]\n",
      "\n",
      " Transpose_2D:  [[1 5]\n",
      " [2 6]\n",
      " [3 7]\n",
      " [4 8]]\n"
     ]
    }
   ],
   "source": [
    "arr = np.arange(12)\n",
    "print(\"Original array: \",arr)\n",
    "\n",
    "reshaped = arr.reshape((3,4))\n",
    "print(\"\\n Reshaped array: \", reshaped)\n",
    "\n",
    "flattened = arr.flatten()\n",
    "print(\"\\n Flattened array: \",flattened)\n",
    "\n",
    "#ravel (returns view instead of copy)\n",
    "raveled = reshaped.ravel()\n",
    "print(\"\\n raveled array: \", raveled)\n",
    "\n",
    "#Transpose\n",
    "transpose = reshaped.T\n",
    "print(\"\\n Transposed array: \", transpose)\n",
    "\n",
    "#Transposing an 2Darray\n",
    "arr_2 = np.array([[1,2,3,4], [5,6,7,8]])\n",
    "print(\"\\n Array_2 : \", arr_2)\n",
    "transpose_2D = arr_2.T\n",
    "print(\"\\n Transpose_2D: \", transpose_2D)\n",
    "\n",
    "\n",
    "\n"
   ]
  }
 ],
 "metadata": {
  "kernelspec": {
   "display_name": "venv",
   "language": "python",
   "name": "python3"
  },
  "language_info": {
   "codemirror_mode": {
    "name": "ipython",
    "version": 3
   },
   "file_extension": ".py",
   "mimetype": "text/x-python",
   "name": "python",
   "nbconvert_exporter": "python",
   "pygments_lexer": "ipython3",
   "version": "3.13.2"
  }
 },
 "nbformat": 4,
 "nbformat_minor": 5
}
